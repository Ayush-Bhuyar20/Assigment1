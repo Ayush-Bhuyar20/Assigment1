{
 "cells": [
  {
   "cell_type": "markdown",
   "id": "52e11093-1792-47e9-a707-bf32af66eaa5",
   "metadata": {},
   "source": [
    "Q1. Create one variable containing following type of data:\n",
    "(i) string\n",
    "(ii) list\n",
    "(iii) float\n",
    "(iv) tuple"
   ]
  },
  {
   "cell_type": "code",
   "execution_count": 20,
   "id": "84be8b34-f0a2-4c16-b80d-b4da2e152301",
   "metadata": {},
   "outputs": [],
   "source": [
    "#STRING\n",
    "my_string = \"Hello, Coders!\"\n",
    "\n",
    "#LIST\n",
    "my_list = [1,2.69,'python',777]\n",
    "\n",
    "#FLOAT\n",
    "my_float = 6.14\n",
    "\n",
    "#TUPLE\n",
    "my_tuple = (5.63,'data science',896,'ipl')\n"
   ]
  },
  {
   "cell_type": "code",
   "execution_count": null,
   "id": "a505a997-6ea5-4ac3-b718-052fc6357057",
   "metadata": {},
   "outputs": [],
   "source": []
  },
  {
   "cell_type": "markdown",
   "id": "fb88fe2f-a0fb-414e-ade9-04e4b2ae1021",
   "metadata": {},
   "source": [
    "Q2. Given are some following variables containing data:\n",
    "(i) var1 = ‘ ‘\n",
    "(ii) var2 = ‘[ DS , ML , Python]’\n",
    "(iii) var3 = [ ‘DS’ , ’ML’ , ‘Python’ ]\n",
    "(iv) var4 = 1.\n",
    "What will be the data type of the above given variable."
   ]
  },
  {
   "cell_type": "code",
   "execution_count": 26,
   "id": "84d33f90-4990-4652-9e25-3143e01c6e71",
   "metadata": {},
   "outputs": [],
   "source": [
    "#1\n",
    "var1 = ''\n",
    "#2\n",
    "var2 = '[ DS , ML , Python]'\n",
    "#3\n",
    "var3 = [ 'DS' , 'ML' , 'Python' ]\n",
    "#4\n",
    "var4 = 1\n"
   ]
  },
  {
   "cell_type": "code",
   "execution_count": 29,
   "id": "d7149035-8d25-4270-a858-d1e078cb4075",
   "metadata": {},
   "outputs": [
    {
     "data": {
      "text/plain": [
       "str"
      ]
     },
     "execution_count": 29,
     "metadata": {},
     "output_type": "execute_result"
    }
   ],
   "source": [
    "type(var1)"
   ]
  },
  {
   "cell_type": "code",
   "execution_count": 30,
   "id": "459993fd-3c10-4e04-a6e7-6b4349518ce6",
   "metadata": {},
   "outputs": [
    {
     "data": {
      "text/plain": [
       "str"
      ]
     },
     "execution_count": 30,
     "metadata": {},
     "output_type": "execute_result"
    }
   ],
   "source": [
    "type(var2)"
   ]
  },
  {
   "cell_type": "code",
   "execution_count": 31,
   "id": "56f814f2-f967-4964-9ed2-1d4d1055c871",
   "metadata": {},
   "outputs": [
    {
     "data": {
      "text/plain": [
       "list"
      ]
     },
     "execution_count": 31,
     "metadata": {},
     "output_type": "execute_result"
    }
   ],
   "source": [
    "type(var3)"
   ]
  },
  {
   "cell_type": "code",
   "execution_count": 32,
   "id": "cd14e565-cdbc-456f-af6a-648056ce8b15",
   "metadata": {},
   "outputs": [
    {
     "data": {
      "text/plain": [
       "int"
      ]
     },
     "execution_count": 32,
     "metadata": {},
     "output_type": "execute_result"
    }
   ],
   "source": [
    "type(var4)"
   ]
  },
  {
   "cell_type": "code",
   "execution_count": null,
   "id": "6b33a295-f0bd-4fa4-9b5d-c04075f96dbf",
   "metadata": {},
   "outputs": [],
   "source": []
  },
  {
   "cell_type": "markdown",
   "id": "a0acf919-80bb-4510-8eb6-1f1eb6da897b",
   "metadata": {},
   "source": [
    "Q3. Explain the use of the following operators using an example:\n",
    "(i) /\n",
    "(ii) %\n",
    "(iii) //\n",
    "(iv) **"
   ]
  },
  {
   "cell_type": "code",
   "execution_count": 40,
   "id": "6b9603a2-cd5f-4da9-a14f-aaa85621d8a4",
   "metadata": {},
   "outputs": [],
   "source": [
    "\"\"\"1)'/' this is a division opreator which basically returns the quotient when a number is divided by another\n",
    "and it follows the float point division which means it retruns floating point result even if the oprends are intergers\"\"\"\n",
    "\n",
    "#exapmle\n",
    "a = 59\n",
    "b = 21\n",
    "result = a/b"
   ]
  },
  {
   "cell_type": "code",
   "execution_count": 41,
   "id": "41872cc0-9e4e-4235-a674-91c7737247ce",
   "metadata": {},
   "outputs": [
    {
     "data": {
      "text/plain": [
       "2.8095238095238093"
      ]
     },
     "execution_count": 41,
     "metadata": {},
     "output_type": "execute_result"
    }
   ],
   "source": [
    "result"
   ]
  },
  {
   "cell_type": "code",
   "execution_count": 2,
   "id": "853c5215-6498-4d78-952f-5f15a6151315",
   "metadata": {},
   "outputs": [],
   "source": [
    "\"\"\"\"2) '%' this is module opreation which basically divides the number by another and retruns the remainder as output\"\"\"\n",
    "\n",
    "#example\n",
    "a = 59\n",
    "b = 21\n",
    "result = a % b\n"
   ]
  },
  {
   "cell_type": "code",
   "execution_count": 3,
   "id": "fd71d2af-b2b5-4122-ac55-83714502cb4d",
   "metadata": {},
   "outputs": [
    {
     "data": {
      "text/plain": [
       "17"
      ]
     },
     "execution_count": 3,
     "metadata": {},
     "output_type": "execute_result"
    }
   ],
   "source": [
    "result"
   ]
  },
  {
   "cell_type": "code",
   "execution_count": 4,
   "id": "19531bec-c838-4167-8bbc-8e3ccc2ecf66",
   "metadata": {},
   "outputs": [],
   "source": [
    "\"\"\"3) '//' this is floor division opreator which basically divides the number by another and \n",
    "returns the largest integer that is less than or equal to the quotient\"\"\"\n",
    "\n",
    "#example \n",
    "a = 59\n",
    "b = 21\n",
    "result = a//b\n"
   ]
  },
  {
   "cell_type": "code",
   "execution_count": 5,
   "id": "e9e459b7-6c12-47aa-92df-60435aa056b5",
   "metadata": {},
   "outputs": [
    {
     "data": {
      "text/plain": [
       "2"
      ]
     },
     "execution_count": 5,
     "metadata": {},
     "output_type": "execute_result"
    }
   ],
   "source": [
    "result"
   ]
  },
  {
   "cell_type": "code",
   "execution_count": 6,
   "id": "96b4fd2d-604d-45bf-82d4-ba7ea074421a",
   "metadata": {},
   "outputs": [],
   "source": [
    "\"\"\"4) '**' this is exponention opreator which basically returns the exponential power of a number with respective another\"\"\"\n",
    "\n",
    "#exapmle\n",
    "a = 59\n",
    "b = 21\n",
    "result = a**b"
   ]
  },
  {
   "cell_type": "code",
   "execution_count": 7,
   "id": "886d7dab-2568-489a-b1ac-aa60fb496c3c",
   "metadata": {},
   "outputs": [
    {
     "data": {
      "text/plain": [
       "15413179794770734626518662321719325259"
      ]
     },
     "execution_count": 7,
     "metadata": {},
     "output_type": "execute_result"
    }
   ],
   "source": [
    "result"
   ]
  },
  {
   "cell_type": "code",
   "execution_count": null,
   "id": "355a5b9c-dc16-4ac2-8b3a-f7d9f43dc183",
   "metadata": {},
   "outputs": [],
   "source": []
  },
  {
   "cell_type": "markdown",
   "id": "14f6b496-17ff-4677-b6e6-318b9f7fa457",
   "metadata": {},
   "source": [
    "Q4. Create a list of length 10 of your choice containing multiple types of data. Using for loop print the\n",
    "element and its data type."
   ]
  },
  {
   "cell_type": "code",
   "execution_count": 11,
   "id": "db0ea9df-8f0b-43ed-8e04-4031d231ea48",
   "metadata": {},
   "outputs": [
    {
     "name": "stdout",
     "output_type": "stream",
     "text": [
      "Hello Coders! <class 'str'>\n",
      "143 <class 'int'>\n",
      "143.6 <class 'float'>\n",
      "(5, 6, 7) <class 'tuple'>\n",
      "{'b', 'a', 'c'} <class 'set'>\n",
      "[123, 'apple'] <class 'list'>\n",
      "False <class 'bool'>\n",
      "True <class 'bool'>\n",
      "(2+7j) <class 'complex'>\n",
      "END <class 'str'>\n"
     ]
    }
   ],
   "source": [
    "my_list = ['Hello Coders!', 143, 143.6, (5,6,7), {'a','b','c',}, [123,'apple'], False, True, 2+7j, 'END']\n",
    "\n",
    "for quanter in my_list:\n",
    "    print(quanter,type(quanter))"
   ]
  },
  {
   "cell_type": "code",
   "execution_count": null,
   "id": "e199ecaa-a23d-4969-9932-8c1c4364d7a7",
   "metadata": {},
   "outputs": [],
   "source": []
  },
  {
   "cell_type": "markdown",
   "id": "969267d7-50b9-477e-a01d-a040b91ed9d9",
   "metadata": {},
   "source": [
    "Q5. Using a while loop, verify if the number A is purely divisible by number B and if so then how many\n",
    "times it can be divisible."
   ]
  },
  {
   "cell_type": "code",
   "execution_count": 7,
   "id": "85ac6fa4-af1b-421f-9e78-1ee8af1dd887",
   "metadata": {},
   "outputs": [
    {
     "name": "stdin",
     "output_type": "stream",
     "text": [
      "Enter the number A:  20\n",
      "Enter the number B:  2\n"
     ]
    },
    {
     "name": "stdout",
     "output_type": "stream",
     "text": [
      "The number A is divisible by B, and it can be divided 2 times.\n"
     ]
    }
   ],
   "source": [
    "A = int(input(\"Enter the number A: \"))\n",
    "B = int(input(\"Enter the number B: \"))\n",
    "\n",
    "count = 0\n",
    "while A % B == 0:\n",
    "    A = A / B\n",
    "    count += 1\n",
    "\n",
    "if count > 0:\n",
    "    print(f\"The number A is divisible by B, and it can be divided {count} times.\")\n",
    "else:\n",
    "    print(\"The number A is not divisible by B.\")\n"
   ]
  },
  {
   "cell_type": "code",
   "execution_count": null,
   "id": "9e3d19d8-c47d-489f-be43-79b5e465fddd",
   "metadata": {},
   "outputs": [],
   "source": []
  },
  {
   "cell_type": "markdown",
   "id": "f07e0e4a-9170-4b3f-b658-4c35823d61c4",
   "metadata": {},
   "source": [
    "Q6. Create a list containing 25 int type data. Using for loop and if-else condition print if the element is\n",
    "divisible by 3 or not."
   ]
  },
  {
   "cell_type": "code",
   "execution_count": 18,
   "id": "6b20bd0d-762d-42f2-b7a4-74d69b029d77",
   "metadata": {},
   "outputs": [
    {
     "name": "stdout",
     "output_type": "stream",
     "text": [
      "123 is divisible by 3\n",
      "456 is divisible by 3\n",
      "789 is divisible by 3\n",
      "143 is not divisible by 3\n",
      "741 is divisible by 3\n",
      "23 is not divisible by 3\n",
      "89 is not divisible by 3\n",
      "45 is divisible by 3\n",
      "96 is divisible by 3\n",
      "6 is divisible by 3\n",
      "98 is not divisible by 3\n",
      "24 is divisible by 3\n",
      "56 is not divisible by 3\n",
      "86 is not divisible by 3\n",
      "76 is not divisible by 3\n",
      "51 is divisible by 3\n",
      "23.69 is not divisible by 3\n",
      "92.36 is not divisible by 3\n",
      "17.63 is not divisible by 3\n",
      "12 is divisible by 3\n",
      "15 is divisible by 3\n",
      "33 is divisible by 3\n",
      "25 is not divisible by 3\n",
      "73 is not divisible by 3\n",
      "3 is divisible by 3\n"
     ]
    }
   ],
   "source": [
    "my_list = [123, 456, 789, 143, 741, 23, 89, 45, 96, 6, 98, 24, 56, 86, 76, 51, 23.69, 92.36, 17.63, 12, 15, 33, 25, 73, 3]\n",
    "\n",
    "for item in my_list:\n",
    "    if item % 3 == 0:\n",
    "        print(f\"{item} is divisible by 3\")\n",
    "    else:\n",
    "        print(f\"{item} is not divisible by 3\")\n",
    "        \n",
    "    "
   ]
  },
  {
   "cell_type": "code",
   "execution_count": null,
   "id": "3a80fa63-206e-460f-bb47-3d4e01acddb3",
   "metadata": {},
   "outputs": [],
   "source": []
  },
  {
   "cell_type": "markdown",
   "id": "9025f814-ab82-4ef0-b6d5-252372380817",
   "metadata": {},
   "source": [
    "Q7. What do you understand about mutable and immutable data types? Give examples for both showing\n",
    "this property."
   ]
  },
  {
   "cell_type": "markdown",
   "id": "468a99a8-0a53-4768-91a4-1c70ee95f03e",
   "metadata": {},
   "source": [
    "ANS:- \n",
    "Mutable Data Types:\n",
    "Mutable data types are those whose values can be modified after they are created. This means that operations performed on mutable objects can directly modify the object's value without creating a new object. Mutable data types are useful when you need to modify the data in-place.\n",
    "Immutable Data Types:\n",
    "Immutable data types are those whose values cannot be modified after they are created. In other words, any operation on an immutable object creates a new object with the modified value, leaving the original object unchanged. Immutable data types are generally preferred when you want to ensure the integrity and immutability of the data."
   ]
  },
  {
   "cell_type": "code",
   "execution_count": 20,
   "id": "4e8eb451-4d73-4021-8e4f-ca31a703a50f",
   "metadata": {},
   "outputs": [
    {
     "name": "stdout",
     "output_type": "stream",
     "text": [
      "[1, 2, 3, 4]\n"
     ]
    }
   ],
   "source": [
    "#Example\n",
    "\n",
    "#Mutable\n",
    "numbers = [1, 2, 3]\n",
    "numbers.append(4)\n",
    "print(numbers) "
   ]
  },
  {
   "cell_type": "code",
   "execution_count": 22,
   "id": "2a04c880-09f7-4808-bca2-ecf57f7c34e1",
   "metadata": {},
   "outputs": [
    {
     "name": "stdout",
     "output_type": "stream",
     "text": [
      "{'name': 'Ayush', 'age': 19}\n"
     ]
    }
   ],
   "source": [
    "person = {'name': 'Ayush', 'age': 18}\n",
    "person['age'] = 19\n",
    "print(person)"
   ]
  },
  {
   "cell_type": "code",
   "execution_count": 23,
   "id": "d31b08c7-cd41-42d9-a881-591970f37dbe",
   "metadata": {},
   "outputs": [
    {
     "name": "stdout",
     "output_type": "stream",
     "text": [
      "8\n"
     ]
    }
   ],
   "source": [
    "#Immutable\n",
    "x = 7\n",
    "x = x + 1\n",
    "print(x)"
   ]
  },
  {
   "cell_type": "code",
   "execution_count": 24,
   "id": "2ab06e31-d168-4616-86a2-d7e8b38ee858",
   "metadata": {},
   "outputs": [
    {
     "name": "stdout",
     "output_type": "stream",
     "text": [
      "AyushBhuyar\n"
     ]
    }
   ],
   "source": [
    "name = \"Ayush\"\n",
    "name = name + \"Bhuyar\"\n",
    "print(name)"
   ]
  },
  {
   "cell_type": "code",
   "execution_count": null,
   "id": "0e4f44c6-42e4-42a5-b5e9-2b7331af8639",
   "metadata": {},
   "outputs": [],
   "source": []
  }
 ],
 "metadata": {
  "kernelspec": {
   "display_name": "Python 3 (ipykernel)",
   "language": "python",
   "name": "python3"
  },
  "language_info": {
   "codemirror_mode": {
    "name": "ipython",
    "version": 3
   },
   "file_extension": ".py",
   "mimetype": "text/x-python",
   "name": "python",
   "nbconvert_exporter": "python",
   "pygments_lexer": "ipython3",
   "version": "3.10.8"
  }
 },
 "nbformat": 4,
 "nbformat_minor": 5
}
